{
 "cells": [
  {
   "cell_type": "markdown",
   "id": "9019517c",
   "metadata": {},
   "source": [
    "<h4> Importing the necessary libraries </h4>"
   ]
  },
  {
   "cell_type": "code",
   "execution_count": 1,
   "id": "0f33fa1e",
   "metadata": {},
   "outputs": [],
   "source": [
    "import numpy as np\n",
    "import pandas as pd\n",
    "import seaborn as sns\n",
    "import matplotlib.pyplot as plt\n",
    "\n",
    "#To get rid of warnings\n",
    "import warnings\n",
    "warnings.filterwarnings('ignore')"
   ]
  },
  {
   "cell_type": "code",
   "execution_count": 2,
   "id": "2d70a905",
   "metadata": {},
   "outputs": [
    {
     "name": "stderr",
     "output_type": "stream",
     "text": [
      "b'Skipping line 2810: expected 2 fields, saw 5\\nSkipping line 4641: expected 2 fields, saw 5\\nSkipping line 7171: expected 2 fields, saw 5\\nSkipping line 11220: expected 2 fields, saw 5\\nSkipping line 13809: expected 2 fields, saw 5\\nSkipping line 14132: expected 2 fields, saw 5\\nSkipping line 14293: expected 2 fields, saw 5\\nSkipping line 14865: expected 2 fields, saw 5\\nSkipping line 17419: expected 2 fields, saw 5\\nSkipping line 22801: expected 2 fields, saw 5\\nSkipping line 25001: expected 2 fields, saw 5\\nSkipping line 26603: expected 2 fields, saw 5\\nSkipping line 26742: expected 2 fields, saw 5\\nSkipping line 29702: expected 2 fields, saw 5\\nSkipping line 32767: expected 2 fields, saw 5\\nSkipping line 32878: expected 2 fields, saw 5\\nSkipping line 35643: expected 2 fields, saw 5\\nSkipping line 36550: expected 2 fields, saw 5\\nSkipping line 38732: expected 2 fields, saw 5\\nSkipping line 40567: expected 2 fields, saw 5\\nSkipping line 40576: expected 2 fields, saw 5\\nSkipping line 41864: expected 2 fields, saw 5\\nSkipping line 46861: expected 2 fields, saw 5\\nSkipping line 47939: expected 2 fields, saw 5\\nSkipping line 48628: expected 2 fields, saw 5\\nSkipping line 48908: expected 2 fields, saw 5\\nSkipping line 57582: expected 2 fields, saw 5\\nSkipping line 58782: expected 2 fields, saw 5\\nSkipping line 58984: expected 2 fields, saw 5\\nSkipping line 61518: expected 2 fields, saw 5\\nSkipping line 63451: expected 2 fields, saw 5\\nSkipping line 68141: expected 2 fields, saw 5\\nSkipping line 72083: expected 2 fields, saw 5\\nSkipping line 74027: expected 2 fields, saw 5\\nSkipping line 77811: expected 2 fields, saw 5\\nSkipping line 83958: expected 2 fields, saw 5\\nSkipping line 85295: expected 2 fields, saw 5\\nSkipping line 88665: expected 2 fields, saw 5\\nSkipping line 89198: expected 2 fields, saw 5\\nSkipping line 92499: expected 2 fields, saw 5\\nSkipping line 92751: expected 2 fields, saw 5\\nSkipping line 93689: expected 2 fields, saw 5\\nSkipping line 94776: expected 2 fields, saw 5\\nSkipping line 97334: expected 2 fields, saw 5\\nSkipping line 102316: expected 2 fields, saw 5\\nSkipping line 103421: expected 2 fields, saw 5\\nSkipping line 106872: expected 2 fields, saw 5\\nSkipping line 109363: expected 2 fields, saw 5\\nSkipping line 110117: expected 2 fields, saw 5\\nSkipping line 110465: expected 2 fields, saw 5\\nSkipping line 113843: expected 2 fields, saw 5\\nSkipping line 115634: expected 2 fields, saw 5\\nSkipping line 121518: expected 2 fields, saw 5\\nSkipping line 123692: expected 2 fields, saw 5\\nSkipping line 124708: expected 2 fields, saw 5\\nSkipping line 129608: expected 2 fields, saw 5\\nSkipping line 133176: expected 2 fields, saw 5\\nSkipping line 135532: expected 2 fields, saw 5\\nSkipping line 138042: expected 2 fields, saw 5\\nSkipping line 139485: expected 2 fields, saw 5\\nSkipping line 140401: expected 2 fields, saw 5\\nSkipping line 144093: expected 2 fields, saw 5\\nSkipping line 149850: expected 2 fields, saw 5\\nSkipping line 151831: expected 2 fields, saw 5\\nSkipping line 158014: expected 2 fields, saw 5\\nSkipping line 162047: expected 2 fields, saw 5\\nSkipping line 164515: expected 2 fields, saw 5\\nSkipping line 170313: expected 2 fields, saw 5\\nSkipping line 171325: expected 2 fields, saw 5\\nSkipping line 171424: expected 2 fields, saw 5\\nSkipping line 175920: expected 2 fields, saw 5\\nSkipping line 176210: expected 2 fields, saw 5\\nSkipping line 183603: expected 2 fields, saw 5\\nSkipping line 190264: expected 2 fields, saw 5\\nSkipping line 191683: expected 2 fields, saw 5\\nSkipping line 191988: expected 2 fields, saw 5\\nSkipping line 195450: expected 2 fields, saw 5\\nSkipping line 195754: expected 2 fields, saw 5\\nSkipping line 197124: expected 2 fields, saw 5\\nSkipping line 199263: expected 2 fields, saw 5\\nSkipping line 202603: expected 2 fields, saw 5\\nSkipping line 209960: expected 2 fields, saw 5\\nSkipping line 213218: expected 2 fields, saw 5\\nSkipping line 217060: expected 2 fields, saw 5\\nSkipping line 220121: expected 2 fields, saw 5\\nSkipping line 223518: expected 2 fields, saw 5\\nSkipping line 226293: expected 2 fields, saw 5\\nSkipping line 227035: expected 2 fields, saw 7\\nSkipping line 227341: expected 2 fields, saw 5\\nSkipping line 227808: expected 2 fields, saw 5\\nSkipping line 228516: expected 2 fields, saw 5\\nSkipping line 228733: expected 2 fields, saw 5\\nSkipping line 232043: expected 2 fields, saw 5\\nSkipping line 232426: expected 2 fields, saw 5\\nSkipping line 234490: expected 2 fields, saw 5\\nSkipping line 239626: expected 2 fields, saw 5\\nSkipping line 240461: expected 2 fields, saw 5\\nSkipping line 244518: expected 2 fields, saw 5\\nSkipping line 245395: expected 2 fields, saw 5\\nSkipping line 246168: expected 2 fields, saw 5\\nSkipping line 246655: expected 2 fields, saw 5\\nSkipping line 246752: expected 2 fields, saw 5\\nSkipping line 247189: expected 2 fields, saw 5\\nSkipping line 250276: expected 2 fields, saw 5\\nSkipping line 255327: expected 2 fields, saw 5\\nSkipping line 257094: expected 2 fields, saw 5\\n'\n",
      "b'Skipping line 264626: expected 2 fields, saw 5\\nSkipping line 265028: expected 2 fields, saw 5\\nSkipping line 269150: expected 2 fields, saw 5\\nSkipping line 271360: expected 2 fields, saw 5\\nSkipping line 273975: expected 2 fields, saw 5\\nSkipping line 274742: expected 2 fields, saw 5\\nSkipping line 276227: expected 2 fields, saw 5\\nSkipping line 279807: expected 2 fields, saw 5\\nSkipping line 283425: expected 2 fields, saw 5\\nSkipping line 287468: expected 2 fields, saw 5\\nSkipping line 292995: expected 2 fields, saw 5\\nSkipping line 293496: expected 2 fields, saw 5\\nSkipping line 293735: expected 2 fields, saw 5\\nSkipping line 295060: expected 2 fields, saw 5\\nSkipping line 296643: expected 2 fields, saw 5\\nSkipping line 296848: expected 2 fields, saw 5\\nSkipping line 308926: expected 2 fields, saw 5\\nSkipping line 310360: expected 2 fields, saw 5\\nSkipping line 317004: expected 2 fields, saw 5\\nSkipping line 318207: expected 2 fields, saw 5\\nSkipping line 331783: expected 2 fields, saw 5\\nSkipping line 333864: expected 2 fields, saw 5\\nSkipping line 335958: expected 2 fields, saw 5\\nSkipping line 336290: expected 2 fields, saw 5\\nSkipping line 343526: expected 2 fields, saw 5\\nSkipping line 343857: expected 2 fields, saw 5\\nSkipping line 344059: expected 2 fields, saw 5\\nSkipping line 348691: expected 2 fields, saw 5\\nSkipping line 353446: expected 2 fields, saw 5\\nSkipping line 357073: expected 2 fields, saw 5\\nSkipping line 359753: expected 2 fields, saw 5\\nSkipping line 359974: expected 2 fields, saw 5\\nSkipping line 366534: expected 2 fields, saw 5\\nSkipping line 369514: expected 2 fields, saw 5\\nSkipping line 377759: expected 2 fields, saw 5\\nSkipping line 379327: expected 2 fields, saw 5\\nSkipping line 380769: expected 2 fields, saw 5\\nSkipping line 381073: expected 2 fields, saw 5\\nSkipping line 381489: expected 2 fields, saw 5\\nSkipping line 386304: expected 2 fields, saw 5\\nSkipping line 387635: expected 2 fields, saw 5\\nSkipping line 389613: expected 2 fields, saw 5\\nSkipping line 392604: expected 2 fields, saw 5\\nSkipping line 393184: expected 2 fields, saw 5\\nSkipping line 395530: expected 2 fields, saw 5\\nSkipping line 396939: expected 2 fields, saw 5\\nSkipping line 397385: expected 2 fields, saw 5\\nSkipping line 397509: expected 2 fields, saw 5\\nSkipping line 402902: expected 2 fields, saw 5\\nSkipping line 405187: expected 2 fields, saw 5\\nSkipping line 408412: expected 2 fields, saw 5\\nSkipping line 419423: expected 2 fields, saw 5\\nSkipping line 420962: expected 2 fields, saw 5\\nSkipping line 425965: expected 2 fields, saw 5\\nSkipping line 427496: expected 2 fields, saw 5\\nSkipping line 438881: expected 2 fields, saw 5\\nSkipping line 439776: expected 2 fields, saw 5\\nSkipping line 440345: expected 2 fields, saw 5\\nSkipping line 445507: expected 2 fields, saw 5\\nSkipping line 445548: expected 2 fields, saw 5\\nSkipping line 447184: expected 2 fields, saw 5\\nSkipping line 448603: expected 2 fields, saw 5\\nSkipping line 451732: expected 2 fields, saw 5\\nSkipping line 458249: expected 2 fields, saw 5\\nSkipping line 460274: expected 2 fields, saw 5\\nSkipping line 467630: expected 2 fields, saw 5\\nSkipping line 473961: expected 2 fields, saw 5\\nSkipping line 476281: expected 2 fields, saw 5\\nSkipping line 478010: expected 2 fields, saw 5\\nSkipping line 478322: expected 2 fields, saw 5\\nSkipping line 479999: expected 2 fields, saw 5\\nSkipping line 480898: expected 2 fields, saw 5\\nSkipping line 481688: expected 2 fields, saw 5\\nSkipping line 485193: expected 2 fields, saw 5\\nSkipping line 485519: expected 2 fields, saw 5\\nSkipping line 486000: expected 2 fields, saw 5\\nSkipping line 489063: expected 2 fields, saw 5\\nSkipping line 494525: expected 2 fields, saw 5\\nSkipping line 495009: expected 2 fields, saw 5\\nSkipping line 501954: expected 2 fields, saw 5\\nSkipping line 508035: expected 2 fields, saw 5\\nSkipping line 508828: expected 2 fields, saw 5\\nSkipping line 509833: expected 2 fields, saw 5\\nSkipping line 510410: expected 2 fields, saw 5\\nSkipping line 518229: expected 2 fields, saw 5\\nSkipping line 520302: expected 2 fields, saw 5\\nSkipping line 520340: expected 2 fields, saw 5\\n'\n"
     ]
    },
    {
     "name": "stderr",
     "output_type": "stream",
     "text": [
      "b'Skipping line 525174: expected 2 fields, saw 5\\nSkipping line 526251: expected 2 fields, saw 5\\nSkipping line 529611: expected 2 fields, saw 5\\nSkipping line 531398: expected 2 fields, saw 5\\nSkipping line 534146: expected 2 fields, saw 5\\nSkipping line 544954: expected 2 fields, saw 5\\nSkipping line 553002: expected 2 fields, saw 5\\nSkipping line 553883: expected 2 fields, saw 5\\nSkipping line 553887: expected 2 fields, saw 5\\nSkipping line 553915: expected 2 fields, saw 5\\nSkipping line 554172: expected 2 fields, saw 5\\nSkipping line 563534: expected 2 fields, saw 5\\nSkipping line 565191: expected 2 fields, saw 5\\nSkipping line 574108: expected 2 fields, saw 5\\nSkipping line 574412: expected 2 fields, saw 5\\nSkipping line 575985: expected 2 fields, saw 5\\nSkipping line 580091: expected 2 fields, saw 5\\nSkipping line 582682: expected 2 fields, saw 5\\nSkipping line 585885: expected 2 fields, saw 5\\nSkipping line 590171: expected 2 fields, saw 5\\nSkipping line 591924: expected 2 fields, saw 5\\nSkipping line 592515: expected 2 fields, saw 5\\nSkipping line 593888: expected 2 fields, saw 5\\nSkipping line 596245: expected 2 fields, saw 5\\nSkipping line 607344: expected 2 fields, saw 5\\nSkipping line 607633: expected 2 fields, saw 5\\nSkipping line 610939: expected 2 fields, saw 5\\nSkipping line 613638: expected 2 fields, saw 5\\nSkipping line 615643: expected 2 fields, saw 5\\nSkipping line 615901: expected 2 fields, saw 5\\nSkipping line 617389: expected 2 fields, saw 5\\nSkipping line 634641: expected 2 fields, saw 5\\nSkipping line 635755: expected 2 fields, saw 5\\nSkipping line 646243: expected 2 fields, saw 5\\nSkipping line 647165: expected 2 fields, saw 5\\nSkipping line 648610: expected 2 fields, saw 5\\nSkipping line 648772: expected 2 fields, saw 5\\nSkipping line 651833: expected 2 fields, saw 5\\nSkipping line 653663: expected 2 fields, saw 5\\nSkipping line 656233: expected 2 fields, saw 5\\nSkipping line 656694: expected 2 fields, saw 5\\nSkipping line 659783: expected 2 fields, saw 5\\nSkipping line 660478: expected 2 fields, saw 5\\nSkipping line 661133: expected 2 fields, saw 5\\nSkipping line 661736: expected 2 fields, saw 5\\nSkipping line 669827: expected 2 fields, saw 5\\n'\n"
     ]
    }
   ],
   "source": [
    "raw_data = pd.read_csv('data.csv', error_bad_lines = False)"
   ]
  },
  {
   "cell_type": "code",
   "execution_count": 3,
   "id": "73471870",
   "metadata": {},
   "outputs": [
    {
     "data": {
      "text/html": [
       "<div>\n",
       "<style scoped>\n",
       "    .dataframe tbody tr th:only-of-type {\n",
       "        vertical-align: middle;\n",
       "    }\n",
       "\n",
       "    .dataframe tbody tr th {\n",
       "        vertical-align: top;\n",
       "    }\n",
       "\n",
       "    .dataframe thead th {\n",
       "        text-align: right;\n",
       "    }\n",
       "</style>\n",
       "<table border=\"1\" class=\"dataframe\">\n",
       "  <thead>\n",
       "    <tr style=\"text-align: right;\">\n",
       "      <th></th>\n",
       "      <th>password</th>\n",
       "      <th>strength</th>\n",
       "    </tr>\n",
       "  </thead>\n",
       "  <tbody>\n",
       "    <tr>\n",
       "      <th>0</th>\n",
       "      <td>kzde5577</td>\n",
       "      <td>1</td>\n",
       "    </tr>\n",
       "    <tr>\n",
       "      <th>1</th>\n",
       "      <td>kino3434</td>\n",
       "      <td>1</td>\n",
       "    </tr>\n",
       "    <tr>\n",
       "      <th>2</th>\n",
       "      <td>visi7k1yr</td>\n",
       "      <td>1</td>\n",
       "    </tr>\n",
       "    <tr>\n",
       "      <th>3</th>\n",
       "      <td>megzy123</td>\n",
       "      <td>1</td>\n",
       "    </tr>\n",
       "    <tr>\n",
       "      <th>4</th>\n",
       "      <td>lamborghin1</td>\n",
       "      <td>1</td>\n",
       "    </tr>\n",
       "  </tbody>\n",
       "</table>\n",
       "</div>"
      ],
      "text/plain": [
       "      password  strength\n",
       "0     kzde5577         1\n",
       "1     kino3434         1\n",
       "2    visi7k1yr         1\n",
       "3     megzy123         1\n",
       "4  lamborghin1         1"
      ]
     },
     "execution_count": 3,
     "metadata": {},
     "output_type": "execute_result"
    }
   ],
   "source": [
    "raw_data.head()"
   ]
  },
  {
   "cell_type": "code",
   "execution_count": 4,
   "id": "e943383e",
   "metadata": {},
   "outputs": [
    {
     "data": {
      "text/plain": [
       "(669640, 2)"
      ]
     },
     "execution_count": 4,
     "metadata": {},
     "output_type": "execute_result"
    }
   ],
   "source": [
    "raw_data.shape"
   ]
  },
  {
   "cell_type": "code",
   "execution_count": 5,
   "id": "2aabe131",
   "metadata": {},
   "outputs": [
    {
     "data": {
      "text/plain": [
       "array([1, 2, 0], dtype=int64)"
      ]
     },
     "execution_count": 5,
     "metadata": {},
     "output_type": "execute_result"
    }
   ],
   "source": [
    "raw_data['strength'].unique()"
   ]
  },
  {
   "cell_type": "markdown",
   "id": "4dddca54",
   "metadata": {},
   "source": [
    "<h4> Checking for missing values </h4>"
   ]
  },
  {
   "cell_type": "code",
   "execution_count": 6,
   "id": "7b5c01dc",
   "metadata": {},
   "outputs": [
    {
     "data": {
      "text/plain": [
       "password    1\n",
       "strength    0\n",
       "dtype: int64"
      ]
     },
     "execution_count": 6,
     "metadata": {},
     "output_type": "execute_result"
    }
   ],
   "source": [
    "raw_data.isnull().sum()"
   ]
  },
  {
   "cell_type": "code",
   "execution_count": 7,
   "id": "b4440aca",
   "metadata": {},
   "outputs": [
    {
     "data": {
      "text/html": [
       "<div>\n",
       "<style scoped>\n",
       "    .dataframe tbody tr th:only-of-type {\n",
       "        vertical-align: middle;\n",
       "    }\n",
       "\n",
       "    .dataframe tbody tr th {\n",
       "        vertical-align: top;\n",
       "    }\n",
       "\n",
       "    .dataframe thead th {\n",
       "        text-align: right;\n",
       "    }\n",
       "</style>\n",
       "<table border=\"1\" class=\"dataframe\">\n",
       "  <thead>\n",
       "    <tr style=\"text-align: right;\">\n",
       "      <th></th>\n",
       "      <th>password</th>\n",
       "      <th>strength</th>\n",
       "    </tr>\n",
       "  </thead>\n",
       "  <tbody>\n",
       "    <tr>\n",
       "      <th>367579</th>\n",
       "      <td>NaN</td>\n",
       "      <td>0</td>\n",
       "    </tr>\n",
       "  </tbody>\n",
       "</table>\n",
       "</div>"
      ],
      "text/plain": [
       "       password  strength\n",
       "367579      NaN         0"
      ]
     },
     "execution_count": 7,
     "metadata": {},
     "output_type": "execute_result"
    }
   ],
   "source": [
    "raw_data[raw_data['password'].isna()]"
   ]
  },
  {
   "cell_type": "code",
   "execution_count": 8,
   "id": "324b9bc1",
   "metadata": {},
   "outputs": [],
   "source": [
    "raw_data.dropna(inplace = True)"
   ]
  },
  {
   "cell_type": "code",
   "execution_count": 9,
   "id": "77c39e30",
   "metadata": {},
   "outputs": [
    {
     "data": {
      "text/plain": [
       "password    0\n",
       "strength    0\n",
       "dtype: int64"
      ]
     },
     "execution_count": 9,
     "metadata": {},
     "output_type": "execute_result"
    }
   ],
   "source": [
    "raw_data.isna().sum()"
   ]
  },
  {
   "cell_type": "markdown",
   "id": "6def25ba",
   "metadata": {},
   "source": [
    "<h4> To check the different categories of password strength </h4>"
   ]
  },
  {
   "cell_type": "code",
   "execution_count": 10,
   "id": "8b38125c",
   "metadata": {},
   "outputs": [
    {
     "data": {
      "text/plain": [
       "<AxesSubplot:xlabel='strength', ylabel='count'>"
      ]
     },
     "execution_count": 10,
     "metadata": {},
     "output_type": "execute_result"
    },
    {
     "data": {
      "image/png": "[encoded data removed]",
      "text/plain": [
       "<Figure size 432x288 with 1 Axes>"
      ]
     },
     "metadata": {
      "needs_background": "light"
     },
     "output_type": "display_data"
    }
   ],
   "source": [
    "sns.countplot(raw_data['strength'])"
   ]
  },
  {
   "cell_type": "markdown",
   "id": "0726f5a0",
   "metadata": {},
   "source": [
    "From the above plot, predicting with such dataset will result to a bias prediction as the dataset is imbalance."
   ]
  },
  {
   "cell_type": "markdown",
   "id": "3967e095",
   "metadata": {},
   "source": [
    "#### Transforming the dataset into an array for easy preprocessing"
   ]
  },
  {
   "cell_type": "code",
   "execution_count": 11,
   "id": "617c2c6f",
   "metadata": {},
   "outputs": [],
   "source": [
    "password_tuple = np.array(raw_data)"
   ]
  },
  {
   "cell_type": "code",
   "execution_count": 12,
   "id": "b61811ef",
   "metadata": {},
   "outputs": [
    {
     "data": {
      "text/plain": [
       "array([['kzde5577', 1],\n",
       "       ['kino3434', 1],\n",
       "       ['visi7k1yr', 1],\n",
       "       ...,\n",
       "       ['184520socram', 1],\n",
       "       ['marken22a', 1],\n",
       "       ['fxx4pw4g', 1]], dtype=object)"
      ]
     },
     "execution_count": 12,
     "metadata": {},
     "output_type": "execute_result"
    }
   ],
   "source": [
    "password_tuple"
   ]
  },
  {
   "cell_type": "markdown",
   "id": "42721b89",
   "metadata": {},
   "source": [
    "<h4> Shuffling the dataset for robustness </h4>"
   ]
  },
  {
   "cell_type": "code",
   "execution_count": 13,
   "id": "c2fe2809",
   "metadata": {},
   "outputs": [],
   "source": [
    "import random\n",
    "random.shuffle(password_tuple)"
   ]
  },
  {
   "cell_type": "code",
   "execution_count": 14,
   "id": "a27fa61e",
   "metadata": {},
   "outputs": [],
   "source": [
    "x = [labels[0] for labels in password_tuple]\n",
    "y = [labels[1] for labels in password_tuple]"
   ]
  },
  {
   "cell_type": "code",
   "execution_count": 15,
   "id": "02985f2e",
   "metadata": {},
   "outputs": [
    {
     "data": {
      "text/plain": [
       "['kzde5577',\n",
       " 'kzde5577',\n",
       " 'kzde5577',\n",
       " 'kzde5577',\n",
       " 'megzy123',\n",
       " 'kzde5577',\n",
       " 'megzy123',\n",
       " 'kino3434',\n",
       " 'lamborghin1',\n",
       " 'v1118714',\n",
       " 'AVYq1lDE4MgAZfNt',\n",
       " 'as326159',\n",
       " 'visi7k1yr',\n",
       " 'AVYq1lDE4MgAZfNt',\n",
       " 'kino3434',\n",
       " 'kzde5577',\n",
       " '52558000aaa',\n",
       " '612035180tok',\n",
       " 'as326159',\n",
       " 'megzy123',\n",
       " 'megzy123',\n",
       " 'kino3434',\n",
       " 'megzy123',\n",
       " 'idofo673',\n",
       " 'idofo673',\n",
       " 'cigicigi123',\n",
       " 'kino3434',\n",
       " 'idofo673',\n",
       " 'faranumar91',\n",
       " 'idofo673',\n",
       " 'megzy123',\n",
       " 'g067057895',\n",
       " '52558000aaa',\n",
       " 'u6c8vhow',\n",
       " 'g067057895',\n",
       " 'intel1',\n",
       " 'as326159',\n",
       " 'v1118714',\n",
       " 'elyass15@ajilent-ci',\n",
       " 'universe2908',\n",
       " 'exitos2009',\n",
       " 'sbl571017',\n",
       " 'sbl571017',\n",
       " 'lsdlsd1',\n",
       " 'memjan123',\n",
       " 'memjan123',\n",
       " 'fk9qi21m',\n",
       " 'jytifok873',\n",
       " 'faranumar91',\n",
       " 'trabajonet9',\n",
       " 'faranumar91',\n",
       " 'ok>bdk',\n",
       " 'AVYq1lDE4MgAZfNt',\n",
       " '0169395484a',\n",
       " 'WUt9IZzE0OQ7PkNE',\n",
       " 'czuodhj972',\n",
       " 'pHyqueDIyNQ8vmhb',\n",
       " 'intel1',\n",
       " 'yqugu927',\n",
       " 'universe2908',\n",
       " 'megzy123',\n",
       " 'cigicigi123',\n",
       " 'a2531106',\n",
       " 'b4NbTxDEyNgG141J',\n",
       " 'ok>bdk',\n",
       " 'olmaz.',\n",
       " 'openup12',\n",
       " 'openup12',\n",
       " 'jerusalem393',\n",
       " 'gdfn76',\n",
       " 'jerusalem393',\n",
       " 'kino3434',\n",
       " 'sknq7m0',\n",
       " 'visi7k1yr',\n",
       " 'asgaliu11',\n",
       " 'kino3434',\n",
       " '283671gus',\n",
       " 'lamborghin1',\n",
       " 'gaymaids1',\n",
       " 'olmaz.',\n",
       " 'kzde5577',\n",
       " 'jytifok873',\n",
       " 'megzy123',\n",
       " 'universe2908',\n",
       " 'Iamthelegend1!',\n",
       " 'exitos2009',\n",
       " 'AVYq1lDE4MgAZfNt',\n",
       " 'fahad123',\n",
       " 'megzy123',\n",
       " 'as326159',\n",
       " 'hpqkoxsn5',\n",
       " 'g067057895',\n",
       " 'czuodhj972',\n",
       " 'megzy123',\n",
       " 'kino3434',\n",
       " 'asgaliu11',\n",
       " 'juliel009',\n",
       " 'alimagik1',\n",
       " 'memjan123',\n",
       " '0169395484a',\n",
       " '123477889a',\n",
       " 'asgaliu11',\n",
       " '52558000aaa',\n",
       " 'c3h8bkzr',\n",
       " 'kjkjkj1',\n",
       " 'megzy123',\n",
       " 'universe2908',\n",
       " 'alimagik1',\n",
       " '6tequila6',\n",
       " '2021848709.',\n",
       " 'kunyukbabi69',\n",
       " 'obstacle25',\n",
       " '6tequila6',\n",
       " '2akira2',\n",
       " 'pHyqueDIyNQ8vmhb',\n",
       " 'gill02',\n",
       " 'ok>bdk',\n",
       " 'pHyqueDIyNQ8vmhb',\n",
       " 'snolyuj04',\n",
       " 'il0vey0u',\n",
       " 'RqsuUsDYxNgr8T40',\n",
       " 'jonothepoop1',\n",
       " 'ga98SIzk0NwhiZaE',\n",
       " 'openup12',\n",
       " 'cigicigi123',\n",
       " 'Iamthelegend1!',\n",
       " '838188linh',\n",
       " '283671gus',\n",
       " '10Erjrlmebup0n',\n",
       " 'gkrqjs6',\n",
       " 'ok>bdk',\n",
       " 'jUV4dSDQwNwPpA36',\n",
       " 'cesarmaio1',\n",
       " 'schalke04',\n",
       " 'yqugu927',\n",
       " 'sbl571017',\n",
       " 'sbl571017',\n",
       " 'ok>bdk',\n",
       " '12345yolanda',\n",
       " 'jalal123456',\n",
       " 'go7kew7a2po',\n",
       " 'jonothepoop1',\n",
       " 'ikanez886',\n",
       " 'kinga22',\n",
       " 'd04m11',\n",
       " 'ga98SIzk0NwhiZaE',\n",
       " 'rntprns7',\n",
       " 'sanki1',\n",
       " 'il0vey0u',\n",
       " 'czuodhj972',\n",
       " 'yu4cmn',\n",
       " 'juliana19',\n",
       " 'moken7',\n",
       " 'calcifer32',\n",
       " 'schalke04',\n",
       " 'WUt9IZzE0OQ7PkNE',\n",
       " 'woon12',\n",
       " 'pikey231',\n",
       " 'fnmsdha476',\n",
       " 'go7kew7a2po',\n",
       " 'fk9qi21m',\n",
       " 'kjkjkj1',\n",
       " 'g067057895',\n",
       " '20Dgw7TQ0OQVdly7',\n",
       " 'a2531106',\n",
       " 'elyass15@ajilent-ci',\n",
       " 'schalke04',\n",
       " 'meopvywk628',\n",
       " 'matiofox08',\n",
       " 'juliana19',\n",
       " 'RPFUOUDQwMwVW0AS',\n",
       " '2akira2',\n",
       " '2fakjv',\n",
       " 'wisal1234',\n",
       " 'juliana19',\n",
       " 'xyws951753',\n",
       " 'ass359',\n",
       " 'mohantra1',\n",
       " 'bgrvl80',\n",
       " 'p2share',\n",
       " 'jytifok873',\n",
       " 'kino3434',\n",
       " 'jalal123456',\n",
       " 'Iamthelegend1!',\n",
       " 'snolyuj04',\n",
       " 'nicolas05',\n",
       " 'yllime123',\n",
       " 'schalke04',\n",
       " 'WUt9IZzE0OQ7PkNE',\n",
       " 'barra23',\n",
       " 'demon10',\n",
       " 'igejasy712',\n",
       " 'znbl5tj1',\n",
       " 'cesarmaio1',\n",
       " 'mazdarx7',\n",
       " '3vszncp4',\n",
       " 'mazdarx7',\n",
       " 'RPFUOUDQwMwVW0AS',\n",
       " 'idofo673',\n",
       " 'khmer100.03278&?><Mnb',\n",
       " 'z3ro1sm',\n",
       " 'pikey231',\n",
       " 'wxS2ztDk4OATjBfI',\n",
       " 'jUV4dSDQwNwPpA36',\n",
       " 'z3ro1sm',\n",
       " 'memjan123',\n",
       " '3vszncp4',\n",
       " '838188linh',\n",
       " 'puegwajy416',\n",
       " 'finisterra1',\n",
       " 'olmaz.',\n",
       " 'AVYq1lDE4MgAZfNt',\n",
       " '2akira2',\n",
       " 'k1k2k3k4k5k6',\n",
       " 'hodygid757',\n",
       " 'yut0838828185',\n",
       " 'mickael12',\n",
       " 'khmer100.03278&?><Mnb',\n",
       " 'teemteem97',\n",
       " 'kVczcljg4OA25Aeb',\n",
       " 'universe2908',\n",
       " 'taurofive16',\n",
       " 'IjUcOtYqAwel725',\n",
       " 'zgmfnwuq25',\n",
       " '123477889a',\n",
       " 'damyvo114',\n",
       " 'il0vey0u',\n",
       " '4fqa52vecr',\n",
       " 'tamanagung6',\n",
       " 'khmer100.03278&?><Mnb',\n",
       " '20010509wang',\n",
       " 'demon10',\n",
       " 'obstacle25',\n",
       " 'ginger972',\n",
       " 'hodygid757',\n",
       " '283671gus',\n",
       " 'damyvo114',\n",
       " 'jUV4dSDQwNwPpA36',\n",
       " 'portales1',\n",
       " 'z3ro1sm',\n",
       " 'tamanagung6',\n",
       " 'cesarmaio1',\n",
       " 'gandhi8513',\n",
       " 'bgrvl80',\n",
       " 'ubojig109',\n",
       " 'warriors08',\n",
       " 'koabcswzt3',\n",
       " 'yitbos77',\n",
       " 's0xwym7h',\n",
       " 'kzde5577',\n",
       " 'RqsuUsDYxNgr8T40',\n",
       " 'pablo321159',\n",
       " 's9830950044',\n",
       " 'elyass15@ajilent-ci',\n",
       " '52558000aaa',\n",
       " 'tomas7896',\n",
       " 'barra23',\n",
       " 'ekufite742',\n",
       " 'k9b8cz6aj2',\n",
       " 'abizar08',\n",
       " 'koabcswzt3',\n",
       " 'demon10',\n",
       " 'bellsuki1',\n",
       " 'lsdlsd1',\n",
       " 'metopelo1623',\n",
       " '838188linh',\n",
       " 'finisterra1',\n",
       " 'teemteem97',\n",
       " 'kayal123',\n",
       " 's9830950044',\n",
       " 'planes123',\n",
       " 'faranumar91',\n",
       " 'jUV4dSDQwNwPpA36',\n",
       " 'tia150979',\n",
       " 'kry1z9',\n",
       " 'lamborghin1',\n",
       " 'a0972986650',\n",
       " 'frhnsvelhfr1',\n",
       " 'ubojig109',\n",
       " 'QWERTY0011',\n",
       " '20010509wang',\n",
       " 'ajyrew547',\n",
       " 'hayhayq2',\n",
       " 'teste10',\n",
       " 'teste10',\n",
       " 'jonothepoop1',\n",
       " 'jytifok873',\n",
       " 'kuntz80',\n",
       " 'gdfn76',\n",
       " '2fakjv',\n",
       " 'mike09',\n",
       " 'ajyrew547',\n",
       " 'RqsuUsDYxNgr8T40',\n",
       " 'edcmki90',\n",
       " 'q0pv0fk',\n",
       " 'jalingo1',\n",
       " 'AVYq1lDE4MgAZfNt',\n",
       " 'jytifok873',\n",
       " 'z888888',\n",
       " 'igejasy712',\n",
       " '147963asd',\n",
       " 'elonex24',\n",
       " 'fahad123',\n",
       " 'jalal123456',\n",
       " 'holamundo1',\n",
       " 'teste10',\n",
       " 'megzy123',\n",
       " 'bgrvl80',\n",
       " 'puegwajy416',\n",
       " 'isqizkg1',\n",
       " 'sysoja794',\n",
       " '6yy6yy',\n",
       " '147963asd',\n",
       " 'u6c8vhow',\n",
       " 'owote852',\n",
       " 'robot425',\n",
       " 'koabcswzt3',\n",
       " '147963asd',\n",
       " 'kVczcljg4OA25Aeb',\n",
       " 'asgaliu11',\n",
       " 'xlxlxl777',\n",
       " 'samael666',\n",
       " 'www32223222',\n",
       " 'examy624',\n",
       " '123maxbala',\n",
       " 'abizar08',\n",
       " 'czuodhj972',\n",
       " '6975038lp',\n",
       " '1597535youssi',\n",
       " 'pato221182',\n",
       " 'wibi182d',\n",
       " 'xyws951753',\n",
       " 'WUt9IZzE0OQ7PkNE',\n",
       " 'sknq7m0',\n",
       " 'g067057895',\n",
       " 'fk9qi21m',\n",
       " 'bellsuki1',\n",
       " 'mike09',\n",
       " 'yuri110995',\n",
       " 'gdfn76',\n",
       " 'weicat12',\n",
       " 'sofietou74',\n",
       " 'faranumar91',\n",
       " 'ppnyadam09',\n",
       " 'hpqkoxsn5',\n",
       " 'UF1Z2WjE5Mg26R1K',\n",
       " 'yu86640132',\n",
       " '5gzj5uf',\n",
       " 'beijing168',\n",
       " 'examy624',\n",
       " 'wycinu436',\n",
       " 'XqMB7vDMzOQocAFV',\n",
       " '10Erjrlmebup0n',\n",
       " 'mmm23mm',\n",
       " 'mustang337',\n",
       " 'pikey231',\n",
       " 'mike09',\n",
       " '0870330135a',\n",
       " '0112358mayin0',\n",
       " 'xanyrum650',\n",
       " 'tin030201',\n",
       " 'uou2dae',\n",
       " 'UF1Z2WjE5Mg26R1K',\n",
       " 'bencike7',\n",
       " 'rntprns7',\n",
       " 'autan88',\n",
       " 'tamanagung6',\n",
       " 'asv5o9yu',\n",
       " 'uou2dae',\n",
       " 's4m2dx9e6',\n",
       " 'k1k2k3k4k5k6',\n",
       " '20Dgw7TQ0OQVdly7',\n",
       " 'ok>bdk',\n",
       " 'ycqtgdso3',\n",
       " 'RqsuUsDYxNgr8T40',\n",
       " 'hpqkoxsn5',\n",
       " 'yu86640132',\n",
       " 'bencike7',\n",
       " 'cockw0mble',\n",
       " 'metopelo1623',\n",
       " 'pHyqueDIyNQ8vmhb',\n",
       " '0112358mayin0',\n",
       " '1597535youssi',\n",
       " 'wxS2ztDk4OATjBfI',\n",
       " 'olmaz.',\n",
       " 'ok>bdk',\n",
       " 'josue12',\n",
       " 'afs34214',\n",
       " 'AVYq1lDE4MgAZfNt',\n",
       " 'mohantra1',\n",
       " '1ngaymuadong',\n",
       " 'kswa2mrv',\n",
       " 'ram@!sita15392',\n",
       " 'ajyrew547',\n",
       " 'tin030201',\n",
       " 'shotiko18',\n",
       " 'patri1973',\n",
       " 'weicat12',\n",
       " '4165000yakub',\n",
       " 'czuodhj972',\n",
       " 'sknq7m0',\n",
       " 'poseidon2011',\n",
       " 'openup12',\n",
       " '64whbrb351',\n",
       " 'RqsuUsDYxNgr8T40',\n",
       " '0112358mayin0',\n",
       " 'k1k2k3k4k5k6',\n",
       " 'ldteugao6',\n",
       " 'josue12',\n",
       " 'xlxlxl777',\n",
       " 'd04m11',\n",
       " 'weicat12',\n",
       " 'GGmm26120904..',\n",
       " 'kP82iqDMxNgBMxBP',\n",
       " 'njmania114',\n",
       " 'saule123',\n",
       " 'xiau5ff',\n",
       " 'pekai2004',\n",
       " 'walterivl13',\n",
       " 'abizar08',\n",
       " 'kyxvufl37',\n",
       " 'cockw0mble',\n",
       " 'u03kz6ez',\n",
       " 'ycqtgdso3',\n",
       " 'ppnyadam09',\n",
       " 'parvizrus13',\n",
       " '7mV0pKTA3MgHy8Jv',\n",
       " 'a2531106',\n",
       " 'viri13',\n",
       " 'servbot88',\n",
       " 'demon10',\n",
       " 'farrukhcse12',\n",
       " 'ajyrew547',\n",
       " 'parent777',\n",
       " 'gerardway1',\n",
       " 'z888888',\n",
       " 'ekufite742',\n",
       " 'kino3434',\n",
       " 'rqmswof2llb0',\n",
       " 'znbl5tj1',\n",
       " 'killer5',\n",
       " 'barboza221294',\n",
       " 'v10rica',\n",
       " 'acetita478',\n",
       " 'ejeko677',\n",
       " 'kjkjkj1',\n",
       " 'taiga0088',\n",
       " 'viri13',\n",
       " 'x8512514',\n",
       " 'planes123',\n",
       " 'kunyukbabi69',\n",
       " 'd04m11',\n",
       " 'ubojig109',\n",
       " '9950twofour0',\n",
       " 'colorado27',\n",
       " 'xW8-3w7-MFB-CKH',\n",
       " 'kVczcljg4OA25Aeb',\n",
       " 'hpqkoxsn5',\n",
       " 'mustang337',\n",
       " 'qefoquf1uf',\n",
       " 'GGmm26120904..',\n",
       " 'graciela2',\n",
       " 'jalal123456',\n",
       " 'WUt9IZzE0OQ7PkNE',\n",
       " '7942vikas',\n",
       " 'jsm159167',\n",
       " 'pablo321159',\n",
       " 'lofebop480',\n",
       " 'obstacle25',\n",
       " 'intel1',\n",
       " 'gandhi8513',\n",
       " 'z3ro1sm',\n",
       " 'trabajonet9',\n",
       " 'asakapa22',\n",
       " '101010hadis',\n",
       " 'isqizkg1',\n",
       " 'polo2014',\n",
       " 'polo2014',\n",
       " 'clave08',\n",
       " 'weicat12',\n",
       " 'tamanagung6',\n",
       " 'kabrito1',\n",
       " '3y6iwef2g6',\n",
       " 'w9209640',\n",
       " 'spl51190595',\n",
       " 'asgaliu11',\n",
       " 'faranumar91',\n",
       " 'ahibyg892',\n",
       " 'junaid5',\n",
       " 'pato221182',\n",
       " 'kuntz80',\n",
       " 'YADHJIGSAWS11',\n",
       " 'trabajonet9',\n",
       " 'ass359',\n",
       " '10Erjrlmebup0n',\n",
       " '3CgRg8DA1NQY1iEj',\n",
       " 'ts34a3fodh3i',\n",
       " 'x0004534',\n",
       " 'wo9aiwangyan',\n",
       " 'jalingo1',\n",
       " 'xiau5ff',\n",
       " 'z3ro1sm',\n",
       " '2akira2',\n",
       " 'TyWM72UNEex8Q8Y',\n",
       " '0870330135a',\n",
       " 'sysoja794',\n",
       " '101010hadis',\n",
       " 'juliana19',\n",
       " 'hola45',\n",
       " 'pekai2004',\n",
       " 'zidadoh258',\n",
       " 'potatobus150',\n",
       " 'aosmaxd0',\n",
       " 'vehat387',\n",
       " 'RPFUOUDQwMwVW0AS',\n",
       " 'njmania114',\n",
       " '0169395484a',\n",
       " 'tomas7896',\n",
       " 'kuntz80',\n",
       " 'ns2b0727',\n",
       " 'yu4cmn',\n",
       " 'exitos2009',\n",
       " 'mega0109',\n",
       " '612035180tok',\n",
       " 'fahad123',\n",
       " 'elyass15@ajilent-ci',\n",
       " 'megzy123',\n",
       " 'tukaxo486',\n",
       " 'matha81',\n",
       " 'junaid5',\n",
       " 'mustang337',\n",
       " 'w1ll1ams',\n",
       " '6975038lp',\n",
       " 'a2531106',\n",
       " '6tequila6',\n",
       " 'ass359',\n",
       " 'JEQuloqOFUd102',\n",
       " 'lamborghin1',\n",
       " 'asv5o9yu',\n",
       " 'moimoimoi9',\n",
       " 'w1ll1ams',\n",
       " 'yami12',\n",
       " 'pablo321159',\n",
       " 'www32223222',\n",
       " 'j09000',\n",
       " 'josef0867',\n",
       " 'cockw0mble',\n",
       " '9950twofour0',\n",
       " 'XqMB7vDMzOQocAFV',\n",
       " '2863e00016',\n",
       " 'bozoxik602',\n",
       " 'YADHJIGSAWS11',\n",
       " 'sysoja794',\n",
       " 'jalingo1',\n",
       " 'wxS2ztDk4OATjBfI',\n",
       " 'tspirits08',\n",
       " 'a0972986650',\n",
       " 'rqmswof2llb0',\n",
       " 'ebacuro434',\n",
       " 'jalingo1',\n",
       " 'gill02',\n",
       " 'sydney213',\n",
       " 'meopvywk628',\n",
       " 'josue12',\n",
       " 'Herzberg@ABBOTT33656888commerce',\n",
       " 'bang6k',\n",
       " 'woogee04',\n",
       " 'yut0838828185',\n",
       " 'mike09',\n",
       " 'b98nwtpriyesh',\n",
       " 'mdaffandi74',\n",
       " 'kjkjkj1',\n",
       " 'kunyukbabi69',\n",
       " 'mickael12',\n",
       " 'intel1',\n",
       " 'aquhih220',\n",
       " 'xlxlxl777',\n",
       " 'itengf12',\n",
       " 'rsuvxz08b',\n",
       " 'g067057895',\n",
       " 'RqsuUsDYxNgr8T40',\n",
       " 'obstacle25',\n",
       " '9950twofour0',\n",
       " '12345yolanda',\n",
       " '9950twofour0',\n",
       " 'beijing168',\n",
       " 'isqizkg1',\n",
       " 'afavin964',\n",
       " 'khurram_',\n",
       " 'potatobus150',\n",
       " '05bumd',\n",
       " 'alchimie79',\n",
       " 'lrhxmevb620',\n",
       " 'peluchin4',\n",
       " 'matha81',\n",
       " 'teste10',\n",
       " 'osimeytju12',\n",
       " 'patri1973',\n",
       " 'pedronha96',\n",
       " '1991vikash',\n",
       " 'aquhih220',\n",
       " 'kyodai666',\n",
       " 'xlxlxl777',\n",
       " 'sebo82',\n",
       " 'mathilde54550',\n",
       " 'nLIGyhTU1NQTAp6u',\n",
       " 'beijing168',\n",
       " 'megzy123',\n",
       " 'v1118714',\n",
       " 'holamundo1',\n",
       " 'krishna2',\n",
       " 's0xwym7h',\n",
       " 'megzy123',\n",
       " 'nebunule2',\n",
       " 'universe2908',\n",
       " 'taulant123',\n",
       " 'aio42fv',\n",
       " 'viri13',\n",
       " 'cerner09',\n",
       " '0VKWoODkwOAc0pZK',\n",
       " 'clumsy0619',\n",
       " 'mario489800',\n",
       " 'seng987321',\n",
       " 'fudijep286',\n",
       " '123456ts',\n",
       " 'trabajonet9',\n",
       " 'pmcm110118008',\n",
       " 'limichan99',\n",
       " 'jalingo1',\n",
       " 'zedika521',\n",
       " 'bozoxik602',\n",
       " '05bumd',\n",
       " 'frhnsvelhfr1',\n",
       " 'yami12',\n",
       " 'zeitgeist1',\n",
       " 'regodib479',\n",
       " 'calcifer32',\n",
       " 'josef0867',\n",
       " 'L2i2ZwTg1MQajeBm',\n",
       " 'galoucura1',\n",
       " 'markama10',\n",
       " 'sysoja794',\n",
       " 'muoaqxwc21',\n",
       " 'Oshity07142014',\n",
       " '600eretz',\n",
       " 'ldteugao6',\n",
       " 'wxS2ztDk4OATjBfI',\n",
       " 'beijing168',\n",
       " 'RRaa--72783530081984',\n",
       " 'bozoxik602',\n",
       " 'ldteugao6',\n",
       " 'asgaliu11',\n",
       " 'hasan18',\n",
       " 'aio42fv',\n",
       " 'sandra0547',\n",
       " 'x8512514',\n",
       " 'kzde5577',\n",
       " 'uqilyni846',\n",
       " 'tia150979',\n",
       " 'aio42fv',\n",
       " '1597535youssi',\n",
       " '847XagYxUHUXOW',\n",
       " 'macias2010',\n",
       " 'mohantra1',\n",
       " 'pardalgg5',\n",
       " 'paladinas1',\n",
       " 'moken7',\n",
       " '1qa2ws3ed4rf',\n",
       " 'zu20081965',\n",
       " 'markama10',\n",
       " 'khmer100.03278&?><Mnb',\n",
       " '33kanun03',\n",
       " '5874813o',\n",
       " 'pikey231',\n",
       " 'uoaef06gfqeb',\n",
       " '123maxbala',\n",
       " 'poseidon2011',\n",
       " 'asv5o9yu',\n",
       " 'barboza221294',\n",
       " '52558000aaa',\n",
       " 'obstacle25',\n",
       " '1w2e3s4l5e6y',\n",
       " '123nicole',\n",
       " 'pilatyj280',\n",
       " 'alimagik1',\n",
       " 'hqh2eYjQxOQPYIsA',\n",
       " 'teemteem97',\n",
       " 'tahseen75',\n",
       " 'kVczcljg4OA25Aeb',\n",
       " 'taulant123',\n",
       " 'wearehis7',\n",
       " 'asv5o9yu',\n",
       " 'sw10d014',\n",
       " 'holamundo1',\n",
       " 'deivid1991',\n",
       " 'p3rf3ct0',\n",
       " 'zeitgeist1',\n",
       " 'limichan99',\n",
       " 'gvczfel801',\n",
       " 'fk9qi21m',\n",
       " '283671gus',\n",
       " 'aslpls2009',\n",
       " 'studenko123',\n",
       " 'nK0yKXTU0NQHZE2e',\n",
       " '23deagosto',\n",
       " 'aziz098765',\n",
       " 'urban1',\n",
       " '4osxw4r',\n",
       " 'luiskeko31',\n",
       " 'xanyrum650',\n",
       " 'mmm23mm',\n",
       " 'Scipio21152030067254',\n",
       " 'ycqtgdso3',\n",
       " 'tahseen75',\n",
       " '2GnTStTE4Mw4MTwv',\n",
       " 'qopybuxi2',\n",
       " 'matha81',\n",
       " 'aqyba894',\n",
       " 'muoaqxwc21',\n",
       " 'satrjcrj6',\n",
       " 'just1n0k',\n",
       " 'regodib479',\n",
       " 'yzxwvgbdu503',\n",
       " 'intel1',\n",
       " 'saule123',\n",
       " 'YADHJIGSAWS11',\n",
       " '2010server',\n",
       " 'moken7',\n",
       " 'viri13',\n",
       " 'asv5o9yu',\n",
       " 'igejasy712',\n",
       " 'J0LcDWDc2NAVE8j3',\n",
       " 'kikeq102',\n",
       " 'y0unus',\n",
       " 'potatobus150',\n",
       " 'fk9qi21m',\n",
       " 'g067057895',\n",
       " '3clrcaevu7',\n",
       " 'ufoduvo540',\n",
       " 'seller1',\n",
       " 'jsm159167',\n",
       " 'u03kz6ez',\n",
       " 'bang6k',\n",
       " 'X34y2CzY5MACs6kp',\n",
       " 'franczuk33',\n",
       " '123456ts',\n",
       " 'k1k2k3k4k5k6',\n",
       " 'carla99',\n",
       " 'pardalgg5',\n",
       " 'folashade1',\n",
       " '4165000yakub',\n",
       " 'yy4129',\n",
       " 'bghuyku37',\n",
       " 'muoaqxwc21',\n",
       " 'w9209640',\n",
       " 'gerardway1',\n",
       " '030005qw',\n",
       " 'ycqtgdso3',\n",
       " 'graciela2',\n",
       " 'fnmsdha476',\n",
       " 'kenneth610',\n",
       " 'servbot88',\n",
       " 'pHyqueDIyNQ8vmhb',\n",
       " 'numero2',\n",
       " 'Ju6BIMTU0MwYXtL4',\n",
       " 'vehat387',\n",
       " 'visi7k1yr',\n",
       " 'ubojig109',\n",
       " 'cristiano7',\n",
       " 'walterivl13',\n",
       " 'wo9aiwangyan',\n",
       " 'pastorius88',\n",
       " '210496av',\n",
       " 'josue12',\n",
       " 'jytifok873',\n",
       " 'woon12',\n",
       " 'ass359',\n",
       " 'luiskeko31',\n",
       " '0VKWoODkwOAc0pZK',\n",
       " 'mario489800',\n",
       " 'wycinu436',\n",
       " 'owote852',\n",
       " 's4m2dx9e6',\n",
       " 'plumilla1',\n",
       " 'ilunia20',\n",
       " 'galoucura1',\n",
       " 'v1s2c3456',\n",
       " 'jytifok873',\n",
       " 'cigicigi123',\n",
       " '1jancok',\n",
       " 'cribrot1200',\n",
       " 'franczuk33',\n",
       " '929865yt',\n",
       " 'jbiz04h4',\n",
       " 'YADHJIGSAWS11',\n",
       " '612035180tok',\n",
       " 'papasito1991',\n",
       " 't8IkFRDIxMAFV2JW',\n",
       " 'vestax25',\n",
       " 'Jovan13lovekenthjusvan4ever',\n",
       " '0VKWoODkwOAc0pZK',\n",
       " 'bang6k',\n",
       " 'universe2908',\n",
       " 'vehat387',\n",
       " 'oscar69',\n",
       " 'z888888',\n",
       " 'TyWM72UNEex8Q8Y',\n",
       " 'fahad123',\n",
       " 'hotdog20',\n",
       " 'elyass15@ajilent-ci',\n",
       " 'jcav26',\n",
       " 'igejasy712',\n",
       " '1w2e3s4l5e6y',\n",
       " 'buqodym199',\n",
       " 'ilonu497',\n",
       " 'jbtcnd6',\n",
       " 'adminmao888',\n",
       " 'terrassa6',\n",
       " 'a0972986650',\n",
       " 'q0pv0fk',\n",
       " 'owary200',\n",
       " '12345yolanda',\n",
       " 'farrukhcse12',\n",
       " 'yhigkenj5',\n",
       " '7942vikas',\n",
       " 'pacific52',\n",
       " 'woogee04',\n",
       " 'mathilde54550',\n",
       " 'cigicigi123',\n",
       " 'pastorius88',\n",
       " 'elperro1',\n",
       " 'naseKoBUMIg295',\n",
       " 'ravens11',\n",
       " 'abizar08',\n",
       " 'Truelove19902610',\n",
       " 'robot425',\n",
       " 'kikeq102',\n",
       " '00J46LTAxMgME7C4',\n",
       " 'yy4129',\n",
       " 'polo2014',\n",
       " 'mayur@8netinfotech',\n",
       " '4fqa52vecr',\n",
       " 'jbtcnd6',\n",
       " 'ewvjbilan4',\n",
       " '1907sedat58',\n",
       " 'moken7',\n",
       " 'kuntz80',\n",
       " '0112358mayin0',\n",
       " 'nicolas05',\n",
       " 'failz0r',\n",
       " 'mark11',\n",
       " 'gopal8420',\n",
       " 'stalucia66',\n",
       " 'q0pv0fk',\n",
       " 'pukiw102',\n",
       " 'seng987321',\n",
       " 's0xwym7h',\n",
       " 'beijing168',\n",
       " 'wuzsadav933',\n",
       " 'RRaa--72783530081984',\n",
       " 'chuno8704',\n",
       " 'hlQ8gDTExMQWkeda',\n",
       " 'orysex325',\n",
       " 'purpledog1992',\n",
       " '0112358mayin0',\n",
       " 'jules2109',\n",
       " 'uuuu123',\n",
       " 'vijay1995',\n",
       " 'khaled12',\n",
       " 'bafiqkxwu0',\n",
       " 'diegote10',\n",
       " 'xW8-3w7-MFB-CKH',\n",
       " 'gonzalez1559',\n",
       " 'jgsxkcp639',\n",
       " 'pass0port',\n",
       " 'tukaxo486',\n",
       " 'zeitgeist1',\n",
       " 'zedika521',\n",
       " 'hisnipes1',\n",
       " 'IP1yaTDUzOQWAeI5',\n",
       " 'IP1yaTDUzOQWAeI5',\n",
       " 'yqugu927',\n",
       " 'adriana1',\n",
       " 'just1n0k',\n",
       " 'go7kew7a2po',\n",
       " 'c3h8bkzr',\n",
       " 'kVczcljg4OA25Aeb',\n",
       " 'zcsntdmhe098',\n",
       " 'failz0r',\n",
       " 'h3ndr4',\n",
       " 'xp;ysmybst',\n",
       " 'zendegi2me',\n",
       " 'folashade1',\n",
       " 'poilkjmnb987',\n",
       " '7942vikas',\n",
       " 'la3na4you',\n",
       " 'koabcswzt3',\n",
       " 'aziz098765',\n",
       " 'ayles2266',\n",
       " '05bumd',\n",
       " 'a2486315',\n",
       " 'jntjmh7',\n",
       " 'zoblin80',\n",
       " '101010hadis',\n",
       " 'LypOJUfuLYrO477',\n",
       " 'graciela2',\n",
       " 'artom111478',\n",
       " 'may112001',\n",
       " 'gandhi8513',\n",
       " 'sasuke4',\n",
       " 'patata91',\n",
       " 'sknq7m0',\n",
       " 'ZZw5HCjQ4OAt0AmE',\n",
       " 'orysex325',\n",
       " 'parent777',\n",
       " 'RRaa--72783530081984',\n",
       " 'mmm23mm',\n",
       " 'zmstkfka12',\n",
       " 'RqsuUsDYxNgr8T40',\n",
       " 'nebunule2',\n",
       " 'fk9qi21m',\n",
       " '4fqa52vecr',\n",
       " '1234159hero',\n",
       " 'killer5',\n",
       " 'vmdo3i',\n",
       " 'olyucskw52',\n",
       " 'CabezaDePollo476',\n",
       " 'jgsxkcp639',\n",
       " 'kjkjkj1',\n",
       " '0lELoCDI1NAy8u7D',\n",
       " 'yk530mg8',\n",
       " 'ilyas789',\n",
       " 'pmcm110118008',\n",
       " '1ug2UKzQyMQBsleD',\n",
       " 'ras996633',\n",
       " 'mega0109',\n",
       " 'luiskeko31',\n",
       " '01161590m',\n",
       " '23deagosto',\n",
       " 'qwekl12',\n",
       " 'raykuaz32',\n",
       " 'kry1z9',\n",
       " 'oioo9og',\n",
       " 'parvizrus13',\n",
       " 'sucupi516',\n",
       " 'p3rf3ct0',\n",
       " '05bumd',\n",
       " 'taurofive16',\n",
       " 'ydd45ee',\n",
       " 'pekai2004',\n",
       " 'viri13',\n",
       " 'sergius1964',\n",
       " 'mohantra1',\n",
       " 'frenchtoast42',\n",
       " 'pazzini24',\n",
       " 'mashhood_afzal21087',\n",
       " 'maulana79',\n",
       " '147963asd',\n",
       " 'icap12',\n",
       " 'barra23',\n",
       " 'jytifok873',\n",
       " '2d0d7qfz',\n",
       " 'uou2dae',\n",
       " 'pHyqueDIyNQ8vmhb',\n",
       " 'IRZA98',\n",
       " 'clave2013',\n",
       " '52756652a',\n",
       " 'g3rappa',\n",
       " 'graciela2',\n",
       " 'pastorius88',\n",
       " 'eeae14li',\n",
       " '19840510kkk1',\n",
       " 'uou2dae',\n",
       " 'sabrina123',\n",
       " 'yhigkenj5',\n",
       " 'herherher1',\n",
       " 'plumilla1',\n",
       " 'QWERTY0011',\n",
       " 'kukimuki123',\n",
       " '847XagYxUHUXOW',\n",
       " 's9830950044',\n",
       " 'kzde5577',\n",
       " 'pmcm110118008',\n",
       " 'igejasy712',\n",
       " 'qefoquf1uf',\n",
       " 'senghong2009',\n",
       " 'aosmaxd0',\n",
       " '000martin',\n",
       " 'kVczcljg4OA25Aeb',\n",
       " 'mathilde54550',\n",
       " 'tuto0378',\n",
       " '5874813o',\n",
       " 'yesenia52',\n",
       " '225arysorIgEKa',\n",
       " 'keithcutlip99',\n",
       " 'krowka18',\n",
       " 'oti38289191',\n",
       " 'n501iomf',\n",
       " 'xyws951753',\n",
       " 'pugceya468',\n",
       " ...]"
      ]
     },
     "execution_count": 15,
     "metadata": {},
     "output_type": "execute_result"
    }
   ],
   "source": [
    "x"
   ]
  },
  {
   "cell_type": "markdown",
   "id": "3adf21ad",
   "metadata": {},
   "source": [
    "<h4> creating a custom function to split input into characters of list </h4>"
   ]
  },
  {
   "cell_type": "code",
   "execution_count": 16,
   "id": "9dbb65df",
   "metadata": {},
   "outputs": [],
   "source": [
    "def word_divide_char(inputs):\n",
    "    return list(inputs)"
   ]
  },
  {
   "cell_type": "code",
   "execution_count": 17,
   "id": "e375d7cb",
   "metadata": {},
   "outputs": [
    {
     "data": {
      "text/plain": [
       "['j', 'e', 'r', 'u', 's', 'a', 'l', 'e', 'm', '3', '9', '3']"
      ]
     },
     "execution_count": 17,
     "metadata": {},
     "output_type": "execute_result"
    }
   ],
   "source": [
    "word_divide_char('jerusalem393')"
   ]
  },
  {
   "cell_type": "markdown",
   "id": "95b3687a",
   "metadata": {},
   "source": [
    "<h4> importing TF-IDF vectorizer </h4>"
   ]
  },
  {
   "cell_type": "code",
   "execution_count": 18,
   "id": "13adf2b0",
   "metadata": {},
   "outputs": [],
   "source": [
    "from sklearn.feature_extraction.text import TfidfVectorizer"
   ]
  },
  {
   "cell_type": "code",
   "execution_count": 19,
   "id": "986eb59b",
   "metadata": {},
   "outputs": [],
   "source": [
    "vectorizer = TfidfVectorizer(tokenizer=word_divide_char)"
   ]
  },
  {
   "cell_type": "code",
   "execution_count": 20,
   "id": "d5797b9a",
   "metadata": {},
   "outputs": [],
   "source": [
    "X = vectorizer.fit_transform(x)"
   ]
  },
  {
   "cell_type": "code",
   "execution_count": 21,
   "id": "e7d57f3f",
   "metadata": {},
   "outputs": [
    {
     "data": {
      "text/plain": [
       "(669639, 131)"
      ]
     },
     "execution_count": 21,
     "metadata": {},
     "output_type": "execute_result"
    }
   ],
   "source": [
    "X.shape"
   ]
  },
  {
   "cell_type": "markdown",
   "id": "bd1f96b5",
   "metadata": {},
   "source": [
    "The columns increased because it's now in form of a vector "
   ]
  },
  {
   "cell_type": "code",
   "execution_count": 22,
   "id": "6f15157d",
   "metadata": {},
   "outputs": [
    {
     "data": {
      "text/plain": [
       "['\\x04',\n",
       " '\\x05',\n",
       " '\\x06',\n",
       " '\\x08',\n",
       " '\\x0e',\n",
       " '\\x10',\n",
       " '\\x11',\n",
       " '\\x12',\n",
       " '\\x13',\n",
       " '\\x16',\n",
       " '\\x17',\n",
       " '\\x19',\n",
       " '\\x1b',\n",
       " '\\x1c',\n",
       " '\\x1d',\n",
       " '\\x1e',\n",
       " ' ',\n",
       " '!',\n",
       " '\"',\n",
       " '#',\n",
       " '$',\n",
       " '%',\n",
       " '&',\n",
       " '(',\n",
       " ')',\n",
       " '*',\n",
       " '+',\n",
       " '-',\n",
       " '.',\n",
       " '/',\n",
       " '0',\n",
       " '1',\n",
       " '2',\n",
       " '3',\n",
       " '4',\n",
       " '5',\n",
       " '6',\n",
       " '7',\n",
       " '8',\n",
       " '9',\n",
       " ';',\n",
       " '<',\n",
       " '=',\n",
       " '>',\n",
       " '?',\n",
       " '@',\n",
       " '[',\n",
       " '\\\\',\n",
       " ']',\n",
       " '^',\n",
       " '_',\n",
       " '`',\n",
       " 'a',\n",
       " 'b',\n",
       " 'c',\n",
       " 'd',\n",
       " 'e',\n",
       " 'f',\n",
       " 'g',\n",
       " 'h',\n",
       " 'i',\n",
       " 'j',\n",
       " 'k',\n",
       " 'l',\n",
       " 'm',\n",
       " 'n',\n",
       " 'o',\n",
       " 'p',\n",
       " 'q',\n",
       " 'r',\n",
       " 's',\n",
       " 't',\n",
       " 'u',\n",
       " 'v',\n",
       " 'w',\n",
       " 'x',\n",
       " 'y',\n",
       " 'z',\n",
       " '{',\n",
       " '|',\n",
       " '}',\n",
       " '~',\n",
       " '\\x7f',\n",
       " '\\xa0',\n",
       " '¡',\n",
       " '¨',\n",
       " '«',\n",
       " '°',\n",
       " '±',\n",
       " '²',\n",
       " '³',\n",
       " '´',\n",
       " 'µ',\n",
       " '¶',\n",
       " '·',\n",
       " '¹',\n",
       " 'º',\n",
       " '¾',\n",
       " '¿',\n",
       " '×',\n",
       " 'ß',\n",
       " 'à',\n",
       " 'á',\n",
       " 'â',\n",
       " 'ä',\n",
       " 'å',\n",
       " 'æ',\n",
       " 'ç',\n",
       " 'è',\n",
       " 'é',\n",
       " 'ê',\n",
       " 'í',\n",
       " 'î',\n",
       " 'ï',\n",
       " 'ð',\n",
       " 'ò',\n",
       " 'ó',\n",
       " 'ô',\n",
       " 'õ',\n",
       " 'ö',\n",
       " '÷',\n",
       " 'ù',\n",
       " 'ú',\n",
       " 'û',\n",
       " 'ü',\n",
       " 'ý',\n",
       " 'þ',\n",
       " 'ÿ',\n",
       " '—',\n",
       " '‚',\n",
       " '…']"
      ]
     },
     "execution_count": 22,
     "metadata": {},
     "output_type": "execute_result"
    }
   ],
   "source": [
    "vectorizer.get_feature_names()"
   ]
  },
  {
   "cell_type": "code",
   "execution_count": 23,
   "id": "0ba00218",
   "metadata": {},
   "outputs": [
    {
     "data": {
      "text/plain": [
       "<1x131 sparse matrix of type '<class 'numpy.float64'>'\n",
       "\twith 6 stored elements in Compressed Sparse Row format>"
      ]
     },
     "execution_count": 23,
     "metadata": {},
     "output_type": "execute_result"
    }
   ],
   "source": [
    "#To get the importance of a vector\n",
    "first_vector = X[0]\n",
    "first_vector"
   ]
  },
  {
   "cell_type": "code",
   "execution_count": 24,
   "id": "3c09f3b8",
   "metadata": {},
   "outputs": [
    {
     "data": {
      "text/plain": [
       "matrix([[0.        ],\n",
       "        [0.        ],\n",
       "        [0.        ],\n",
       "        [0.        ],\n",
       "        [0.        ],\n",
       "        [0.        ],\n",
       "        [0.        ],\n",
       "        [0.        ],\n",
       "        [0.        ],\n",
       "        [0.        ],\n",
       "        [0.        ],\n",
       "        [0.        ],\n",
       "        [0.        ],\n",
       "        [0.        ],\n",
       "        [0.        ],\n",
       "        [0.        ],\n",
       "        [0.        ],\n",
       "        [0.        ],\n",
       "        [0.        ],\n",
       "        [0.        ],\n",
       "        [0.        ],\n",
       "        [0.        ],\n",
       "        [0.        ],\n",
       "        [0.        ],\n",
       "        [0.        ],\n",
       "        [0.        ],\n",
       "        [0.        ],\n",
       "        [0.        ],\n",
       "        [0.        ],\n",
       "        [0.        ],\n",
       "        [0.        ],\n",
       "        [0.        ],\n",
       "        [0.        ],\n",
       "        [0.        ],\n",
       "        [0.        ],\n",
       "        [0.56663446],\n",
       "        [0.        ],\n",
       "        [0.59125713],\n",
       "        [0.        ],\n",
       "        [0.        ],\n",
       "        [0.        ],\n",
       "        [0.        ],\n",
       "        [0.        ],\n",
       "        [0.        ],\n",
       "        [0.        ],\n",
       "        [0.        ],\n",
       "        [0.        ],\n",
       "        [0.        ],\n",
       "        [0.        ],\n",
       "        [0.        ],\n",
       "        [0.        ],\n",
       "        [0.        ],\n",
       "        [0.        ],\n",
       "        [0.        ],\n",
       "        [0.        ],\n",
       "        [0.28598044],\n",
       "        [0.22156606],\n",
       "        [0.        ],\n",
       "        [0.        ],\n",
       "        [0.        ],\n",
       "        [0.        ],\n",
       "        [0.        ],\n",
       "        [0.29185638],\n",
       "        [0.        ],\n",
       "        [0.        ],\n",
       "        [0.        ],\n",
       "        [0.        ],\n",
       "        [0.        ],\n",
       "        [0.        ],\n",
       "        [0.        ],\n",
       "        [0.        ],\n",
       "        [0.        ],\n",
       "        [0.        ],\n",
       "        [0.        ],\n",
       "        [0.        ],\n",
       "        [0.        ],\n",
       "        [0.        ],\n",
       "        [0.33657676],\n",
       "        [0.        ],\n",
       "        [0.        ],\n",
       "        [0.        ],\n",
       "        [0.        ],\n",
       "        [0.        ],\n",
       "        [0.        ],\n",
       "        [0.        ],\n",
       "        [0.        ],\n",
       "        [0.        ],\n",
       "        [0.        ],\n",
       "        [0.        ],\n",
       "        [0.        ],\n",
       "        [0.        ],\n",
       "        [0.        ],\n",
       "        [0.        ],\n",
       "        [0.        ],\n",
       "        [0.        ],\n",
       "        [0.        ],\n",
       "        [0.        ],\n",
       "        [0.        ],\n",
       "        [0.        ],\n",
       "        [0.        ],\n",
       "        [0.        ],\n",
       "        [0.        ],\n",
       "        [0.        ],\n",
       "        [0.        ],\n",
       "        [0.        ],\n",
       "        [0.        ],\n",
       "        [0.        ],\n",
       "        [0.        ],\n",
       "        [0.        ],\n",
       "        [0.        ],\n",
       "        [0.        ],\n",
       "        [0.        ],\n",
       "        [0.        ],\n",
       "        [0.        ],\n",
       "        [0.        ],\n",
       "        [0.        ],\n",
       "        [0.        ],\n",
       "        [0.        ],\n",
       "        [0.        ],\n",
       "        [0.        ],\n",
       "        [0.        ],\n",
       "        [0.        ],\n",
       "        [0.        ],\n",
       "        [0.        ],\n",
       "        [0.        ],\n",
       "        [0.        ],\n",
       "        [0.        ],\n",
       "        [0.        ],\n",
       "        [0.        ],\n",
       "        [0.        ],\n",
       "        [0.        ]])"
      ]
     },
     "execution_count": 24,
     "metadata": {},
     "output_type": "execute_result"
    }
   ],
   "source": [
    "#The transpose of first_vector\n",
    "first_vector.T.todense()"
   ]
  },
  {
   "cell_type": "markdown",
   "id": "e4a2b928",
   "metadata": {},
   "source": [
    "#### Sorting the data by importance"
   ]
  },
  {
   "cell_type": "code",
   "execution_count": 25,
   "id": "fb1fdbeb",
   "metadata": {},
   "outputs": [
    {
     "data": {
      "text/html": [
       "<div>\n",
       "<style scoped>\n",
       "    .dataframe tbody tr th:only-of-type {\n",
       "        vertical-align: middle;\n",
       "    }\n",
       "\n",
       "    .dataframe tbody tr th {\n",
       "        vertical-align: top;\n",
       "    }\n",
       "\n",
       "    .dataframe thead th {\n",
       "        text-align: right;\n",
       "    }\n",
       "</style>\n",
       "<table border=\"1\" class=\"dataframe\">\n",
       "  <thead>\n",
       "    <tr style=\"text-align: right;\">\n",
       "      <th></th>\n",
       "      <th>TF-IDF</th>\n",
       "    </tr>\n",
       "  </thead>\n",
       "  <tbody>\n",
       "    <tr>\n",
       "      <th>7</th>\n",
       "      <td>0.591257</td>\n",
       "    </tr>\n",
       "    <tr>\n",
       "      <th>5</th>\n",
       "      <td>0.566634</td>\n",
       "    </tr>\n",
       "    <tr>\n",
       "      <th>z</th>\n",
       "      <td>0.336577</td>\n",
       "    </tr>\n",
       "    <tr>\n",
       "      <th>k</th>\n",
       "      <td>0.291856</td>\n",
       "    </tr>\n",
       "    <tr>\n",
       "      <th>d</th>\n",
       "      <td>0.285980</td>\n",
       "    </tr>\n",
       "    <tr>\n",
       "      <th>...</th>\n",
       "      <td>...</td>\n",
       "    </tr>\n",
       "    <tr>\n",
       "      <th>9</th>\n",
       "      <td>0.000000</td>\n",
       "    </tr>\n",
       "    <tr>\n",
       "      <th>8</th>\n",
       "      <td>0.000000</td>\n",
       "    </tr>\n",
       "    <tr>\n",
       "      <th>6</th>\n",
       "      <td>0.000000</td>\n",
       "    </tr>\n",
       "    <tr>\n",
       "      <th>4</th>\n",
       "      <td>0.000000</td>\n",
       "    </tr>\n",
       "    <tr>\n",
       "      <th>…</th>\n",
       "      <td>0.000000</td>\n",
       "    </tr>\n",
       "  </tbody>\n",
       "</table>\n",
       "<p>131 rows × 1 columns</p>\n",
       "</div>"
      ],
      "text/plain": [
       "      TF-IDF\n",
       "7   0.591257\n",
       "5   0.566634\n",
       "z   0.336577\n",
       "k   0.291856\n",
       "d   0.285980\n",
       "..       ...\n",
       "9   0.000000\n",
       "8   0.000000\n",
       "6   0.000000\n",
       "4   0.000000\n",
       "…   0.000000\n",
       "\n",
       "[131 rows x 1 columns]"
      ]
     },
     "execution_count": 25,
     "metadata": {},
     "output_type": "execute_result"
    }
   ],
   "source": [
    "df=pd.DataFrame(first_vector.T.todense(),index=vectorizer.get_feature_names(),columns=['TF-IDF'])\n",
    "df.sort_values(by=['TF-IDF'],ascending=False)"
   ]
  },
  {
   "cell_type": "markdown",
   "id": "9de1b5f0",
   "metadata": {},
   "source": [
    "#### Balancing the dataset for accurate prediction using 'Imblearn-RandomUnderSampler'"
   ]
  },
  {
   "cell_type": "code",
   "execution_count": 26,
   "id": "2e424f6e",
   "metadata": {},
   "outputs": [],
   "source": [
    "import imblearn"
   ]
  },
  {
   "cell_type": "code",
   "execution_count": 27,
   "id": "6cce6388",
   "metadata": {},
   "outputs": [],
   "source": [
    "# To get the count of the resampled data\n",
    "from collections import Counter"
   ]
  },
  {
   "cell_type": "code",
   "execution_count": 28,
   "id": "6f117689",
   "metadata": {},
   "outputs": [],
   "source": [
    "from imblearn.under_sampling import RandomUnderSampler"
   ]
  },
  {
   "cell_type": "code",
   "execution_count": 29,
   "id": "6637cf6c",
   "metadata": {},
   "outputs": [],
   "source": [
    "rus = RandomUnderSampler(random_state=42)"
   ]
  },
  {
   "cell_type": "code",
   "execution_count": 30,
   "id": "410e218d",
   "metadata": {},
   "outputs": [],
   "source": [
    "x_rus, y_rus = rus.fit_resample(X, y)"
   ]
  },
  {
   "cell_type": "code",
   "execution_count": 31,
   "id": "44925080",
   "metadata": {},
   "outputs": [
    {
     "name": "stdout",
     "output_type": "stream",
     "text": [
      "Original dataset shape Counter({1: 496643, 0: 90464, 2: 82532})\n",
      "Resample dataset shape Counter({0: 82532, 1: 82532, 2: 82532})\n"
     ]
    }
   ],
   "source": [
    "# Printing the shape of the resampled data\n",
    "print('Original dataset shape', Counter(y))\n",
    "print('Resample dataset shape', Counter(y_rus))"
   ]
  },
  {
   "cell_type": "code",
   "execution_count": 32,
   "id": "318b430d",
   "metadata": {},
   "outputs": [],
   "source": [
    "df = pd.DataFrame(y_rus)"
   ]
  },
  {
   "cell_type": "code",
   "execution_count": 33,
   "id": "cda3247c",
   "metadata": {},
   "outputs": [
    {
     "data": {
      "image/png": "[encoded data removed]",
      "text/plain": [
       "<Figure size 432x288 with 1 Axes>"
      ]
     },
     "metadata": {
      "needs_background": "light"
     },
     "output_type": "display_data"
    }
   ],
   "source": [
    "ax = df.value_counts().plot(kind='bar', title='Strength (0 = low, 1=average, 2=high)', color='#087E8B')"
   ]
  },
  {
   "cell_type": "markdown",
   "id": "2bff8afc",
   "metadata": {},
   "source": [
    "From the above plot, the data is balanced and optimal for prediction."
   ]
  },
  {
   "cell_type": "markdown",
   "id": "63c2e063",
   "metadata": {},
   "source": [
    "#### Splitting the data into train and test data \n",
    "Train -> To learn the relationship within the data\n",
    "\n",
    "Test -> The data will be unseen by the model and will be used to test the model"
   ]
  },
  {
   "cell_type": "code",
   "execution_count": 34,
   "id": "b79cee71",
   "metadata": {},
   "outputs": [],
   "source": [
    "from sklearn.model_selection import train_test_split"
   ]
  },
  {
   "cell_type": "code",
   "execution_count": 35,
   "id": "6dd11894",
   "metadata": {},
   "outputs": [],
   "source": [
    "X_train, X_test, y_train, y_test = train_test_split(x_rus, y_rus, test_size=0.2)"
   ]
  },
  {
   "cell_type": "code",
   "execution_count": 36,
   "id": "c4337ec8",
   "metadata": {},
   "outputs": [
    {
     "name": "stdout",
     "output_type": "stream",
     "text": [
      "X_train.shape: (198076, 131)\n",
      "X_test.shape: (49520, 131)\n",
      "y_train.shape: 198076\n",
      "y_test.shape: 49520\n"
     ]
    }
   ],
   "source": [
    "print('X_train.shape:', X_train.shape)\n",
    "print('X_test.shape:', X_test.shape)\n",
    "print('y_train.shape:',len(y_train))\n",
    "print('y_test.shape:', len(y_test))"
   ]
  },
  {
   "cell_type": "markdown",
   "id": "5689501a",
   "metadata": {},
   "source": [
    "#### Using LogisticRegression Algorithm to build the model"
   ]
  },
  {
   "cell_type": "code",
   "execution_count": 37,
   "id": "f47b6795",
   "metadata": {},
   "outputs": [],
   "source": [
    "from sklearn.linear_model import LogisticRegression"
   ]
  },
  {
   "cell_type": "code",
   "execution_count": 38,
   "id": "7bdfcefc",
   "metadata": {},
   "outputs": [],
   "source": [
    "clf = LogisticRegression(random_state=0, multi_class='multinomial')"
   ]
  },
  {
   "cell_type": "code",
   "execution_count": 39,
   "id": "086cbdf0",
   "metadata": {},
   "outputs": [
    {
     "data": {
      "text/html": [
       "<style>#sk-container-id-1 {color: black;background-color: white;}#sk-container-id-1 pre{padding: 0;}#sk-container-id-1 div.sk-toggleable {background-color: white;}#sk-container-id-1 label.sk-toggleable__label {cursor: pointer;display: block;width: 100%;margin-bottom: 0;padding: 0.3em;box-sizing: border-box;text-align: center;}#sk-container-id-1 label.sk-toggleable__label-arrow:before {content: \"▸\";float: left;margin-right: 0.25em;color: #696969;}#sk-container-id-1 label.sk-toggleable__label-arrow:hover:before {color: black;}#sk-container-id-1 div.sk-estimator:hover label.sk-toggleable__label-arrow:before {color: black;}#sk-container-id-1 div.sk-toggleable__content {max-height: 0;max-width: 0;overflow: hidden;text-align: left;background-color: #f0f8ff;}#sk-container-id-1 div.sk-toggleable__content pre {margin: 0.2em;color: black;border-radius: 0.25em;background-color: #f0f8ff;}#sk-container-id-1 input.sk-toggleable__control:checked~div.sk-toggleable__content {max-height: 200px;max-width: 100%;overflow: auto;}#sk-container-id-1 input.sk-toggleable__control:checked~label.sk-toggleable__label-arrow:before {content: \"▾\";}#sk-container-id-1 div.sk-estimator input.sk-toggleable__control:checked~label.sk-toggleable__label {background-color: #d4ebff;}#sk-container-id-1 div.sk-label input.sk-toggleable__control:checked~label.sk-toggleable__label {background-color: #d4ebff;}#sk-container-id-1 input.sk-hidden--visually {border: 0;clip: rect(1px 1px 1px 1px);clip: rect(1px, 1px, 1px, 1px);height: 1px;margin: -1px;overflow: hidden;padding: 0;position: absolute;width: 1px;}#sk-container-id-1 div.sk-estimator {font-family: monospace;background-color: #f0f8ff;border: 1px dotted black;border-radius: 0.25em;box-sizing: border-box;margin-bottom: 0.5em;}#sk-container-id-1 div.sk-estimator:hover {background-color: #d4ebff;}#sk-container-id-1 div.sk-parallel-item::after {content: \"\";width: 100%;border-bottom: 1px solid gray;flex-grow: 1;}#sk-container-id-1 div.sk-label:hover label.sk-toggleable__label {background-color: #d4ebff;}#sk-container-id-1 div.sk-serial::before {content: \"\";position: absolute;border-left: 1px solid gray;box-sizing: border-box;top: 0;bottom: 0;left: 50%;z-index: 0;}#sk-container-id-1 div.sk-serial {display: flex;flex-direction: column;align-items: center;background-color: white;padding-right: 0.2em;padding-left: 0.2em;position: relative;}#sk-container-id-1 div.sk-item {position: relative;z-index: 1;}#sk-container-id-1 div.sk-parallel {display: flex;align-items: stretch;justify-content: center;background-color: white;position: relative;}#sk-container-id-1 div.sk-item::before, #sk-container-id-1 div.sk-parallel-item::before {content: \"\";position: absolute;border-left: 1px solid gray;box-sizing: border-box;top: 0;bottom: 0;left: 50%;z-index: -1;}#sk-container-id-1 div.sk-parallel-item {display: flex;flex-direction: column;z-index: 1;position: relative;background-color: white;}#sk-container-id-1 div.sk-parallel-item:first-child::after {align-self: flex-end;width: 50%;}#sk-container-id-1 div.sk-parallel-item:last-child::after {align-self: flex-start;width: 50%;}#sk-container-id-1 div.sk-parallel-item:only-child::after {width: 0;}#sk-container-id-1 div.sk-dashed-wrapped {border: 1px dashed gray;margin: 0 0.4em 0.5em 0.4em;box-sizing: border-box;padding-bottom: 0.4em;background-color: white;}#sk-container-id-1 div.sk-label label {font-family: monospace;font-weight: bold;display: inline-block;line-height: 1.2em;}#sk-container-id-1 div.sk-label-container {text-align: center;}#sk-container-id-1 div.sk-container {/* jupyter's `normalize.less` sets `[hidden] { display: none; }` but bootstrap.min.css set `[hidden] { display: none !important; }` so we also need the `!important` here to be able to override the default hidden behavior on the sphinx rendered scikit-learn.org. See: https://github.com/scikit-learn/scikit-learn/issues/21755 */display: inline-block !important;position: relative;}#sk-container-id-1 div.sk-text-repr-fallback {display: none;}</style><div id=\"sk-container-id-1\" class=\"sk-top-container\"><div class=\"sk-text-repr-fallback\"><pre>LogisticRegression(multi_class=&#x27;multinomial&#x27;, random_state=0)</pre><b>In a Jupyter environment, please rerun this cell to show the HTML representation or trust the notebook. <br />On GitHub, the HTML representation is unable to render, please try loading this page with nbviewer.org.</b></div><div class=\"sk-container\" hidden><div class=\"sk-item\"><div class=\"sk-estimator sk-toggleable\"><input class=\"sk-toggleable__control sk-hidden--visually\" id=\"sk-estimator-id-1\" type=\"checkbox\" checked><label for=\"sk-estimator-id-1\" class=\"sk-toggleable__label sk-toggleable__label-arrow\">LogisticRegression</label><div class=\"sk-toggleable__content\"><pre>LogisticRegression(multi_class=&#x27;multinomial&#x27;, random_state=0)</pre></div></div></div></div></div>"
      ],
      "text/plain": [
       "LogisticRegression(multi_class='multinomial', random_state=0)"
      ]
     },
     "execution_count": 39,
     "metadata": {},
     "output_type": "execute_result"
    }
   ],
   "source": [
    "clf.fit(X_train, y_train)"
   ]
  },
  {
   "cell_type": "code",
   "execution_count": 40,
   "id": "78158b98",
   "metadata": {},
   "outputs": [
    {
     "data": {
      "text/plain": [
       "array([2])"
      ]
     },
     "execution_count": 40,
     "metadata": {},
     "output_type": "execute_result"
    }
   ],
   "source": [
    "#Testing the model with a  password \n",
    "dt =np.array(['@Ruth1234%'])\n",
    "pred=vectorizer.transform(dt)\n",
    "clf.predict(pred)"
   ]
  },
  {
   "cell_type": "code",
   "execution_count": 41,
   "id": "6e4f6765",
   "metadata": {},
   "outputs": [
    {
     "data": {
      "text/plain": [
       "array([0, 0, 2, ..., 1, 0, 0])"
      ]
     },
     "execution_count": 41,
     "metadata": {},
     "output_type": "execute_result"
    }
   ],
   "source": [
    "y_pred = clf.predict(X_test)\n",
    "y_pred"
   ]
  },
  {
   "cell_type": "code",
   "execution_count": 42,
   "id": "b6abf768",
   "metadata": {},
   "outputs": [],
   "source": [
    "from sklearn.metrics import confusion_matrix, accuracy_score"
   ]
  },
  {
   "cell_type": "code",
   "execution_count": 43,
   "id": "c1dbdc25",
   "metadata": {},
   "outputs": [
    {
     "name": "stdout",
     "output_type": "stream",
     "text": [
      "[[13970  2639    30]\n",
      " [ 3377 11112  1919]\n",
      " [  260  1495 14718]]\n"
     ]
    }
   ],
   "source": [
    "cm=confusion_matrix(y_test,y_pred)\n",
    "print(cm)"
   ]
  },
  {
   "cell_type": "code",
   "execution_count": 44,
   "id": "c1c21ab8",
   "metadata": {},
   "outputs": [
    {
     "name": "stdout",
     "output_type": "stream",
     "text": [
      "Accuracy:80%\n"
     ]
    }
   ],
   "source": [
    "Accuracy_sc = round(accuracy_score(y_test,y_pred)*100)\n",
    "txt = \"Accuracy:{}%\"\n",
    "print(txt.format(Accuracy_sc))"
   ]
  },
  {
   "cell_type": "markdown",
   "id": "ecf75377",
   "metadata": {},
   "source": [
    "LogisticRegression Algorithm built the model with an accuracy of 80%"
   ]
  },
  {
   "cell_type": "markdown",
   "id": "9087451a",
   "metadata": {},
   "source": [
    "A different algorithm will be used for better performance"
   ]
  },
  {
   "cell_type": "markdown",
   "id": "b6ffc72d",
   "metadata": {},
   "source": [
    "#### Using RandomForestClassifier for better performance"
   ]
  },
  {
   "cell_type": "code",
   "execution_count": 48,
   "id": "d593ae3f",
   "metadata": {},
   "outputs": [],
   "source": [
    "from sklearn.ensemble import RandomForestClassifier"
   ]
  },
  {
   "cell_type": "code",
   "execution_count": 49,
   "id": "4a249f57",
   "metadata": {},
   "outputs": [],
   "source": [
    "rfc = RandomForestClassifier()"
   ]
  },
  {
   "cell_type": "code",
   "execution_count": 50,
   "id": "77dba838",
   "metadata": {},
   "outputs": [
    {
     "data": {
      "text/html": [
       "<style>#sk-container-id-3 {color: black;background-color: white;}#sk-container-id-3 pre{padding: 0;}#sk-container-id-3 div.sk-toggleable {background-color: white;}#sk-container-id-3 label.sk-toggleable__label {cursor: pointer;display: block;width: 100%;margin-bottom: 0;padding: 0.3em;box-sizing: border-box;text-align: center;}#sk-container-id-3 label.sk-toggleable__label-arrow:before {content: \"▸\";float: left;margin-right: 0.25em;color: #696969;}#sk-container-id-3 label.sk-toggleable__label-arrow:hover:before {color: black;}#sk-container-id-3 div.sk-estimator:hover label.sk-toggleable__label-arrow:before {color: black;}#sk-container-id-3 div.sk-toggleable__content {max-height: 0;max-width: 0;overflow: hidden;text-align: left;background-color: #f0f8ff;}#sk-container-id-3 div.sk-toggleable__content pre {margin: 0.2em;color: black;border-radius: 0.25em;background-color: #f0f8ff;}#sk-container-id-3 input.sk-toggleable__control:checked~div.sk-toggleable__content {max-height: 200px;max-width: 100%;overflow: auto;}#sk-container-id-3 input.sk-toggleable__control:checked~label.sk-toggleable__label-arrow:before {content: \"▾\";}#sk-container-id-3 div.sk-estimator input.sk-toggleable__control:checked~label.sk-toggleable__label {background-color: #d4ebff;}#sk-container-id-3 div.sk-label input.sk-toggleable__control:checked~label.sk-toggleable__label {background-color: #d4ebff;}#sk-container-id-3 input.sk-hidden--visually {border: 0;clip: rect(1px 1px 1px 1px);clip: rect(1px, 1px, 1px, 1px);height: 1px;margin: -1px;overflow: hidden;padding: 0;position: absolute;width: 1px;}#sk-container-id-3 div.sk-estimator {font-family: monospace;background-color: #f0f8ff;border: 1px dotted black;border-radius: 0.25em;box-sizing: border-box;margin-bottom: 0.5em;}#sk-container-id-3 div.sk-estimator:hover {background-color: #d4ebff;}#sk-container-id-3 div.sk-parallel-item::after {content: \"\";width: 100%;border-bottom: 1px solid gray;flex-grow: 1;}#sk-container-id-3 div.sk-label:hover label.sk-toggleable__label {background-color: #d4ebff;}#sk-container-id-3 div.sk-serial::before {content: \"\";position: absolute;border-left: 1px solid gray;box-sizing: border-box;top: 0;bottom: 0;left: 50%;z-index: 0;}#sk-container-id-3 div.sk-serial {display: flex;flex-direction: column;align-items: center;background-color: white;padding-right: 0.2em;padding-left: 0.2em;position: relative;}#sk-container-id-3 div.sk-item {position: relative;z-index: 1;}#sk-container-id-3 div.sk-parallel {display: flex;align-items: stretch;justify-content: center;background-color: white;position: relative;}#sk-container-id-3 div.sk-item::before, #sk-container-id-3 div.sk-parallel-item::before {content: \"\";position: absolute;border-left: 1px solid gray;box-sizing: border-box;top: 0;bottom: 0;left: 50%;z-index: -1;}#sk-container-id-3 div.sk-parallel-item {display: flex;flex-direction: column;z-index: 1;position: relative;background-color: white;}#sk-container-id-3 div.sk-parallel-item:first-child::after {align-self: flex-end;width: 50%;}#sk-container-id-3 div.sk-parallel-item:last-child::after {align-self: flex-start;width: 50%;}#sk-container-id-3 div.sk-parallel-item:only-child::after {width: 0;}#sk-container-id-3 div.sk-dashed-wrapped {border: 1px dashed gray;margin: 0 0.4em 0.5em 0.4em;box-sizing: border-box;padding-bottom: 0.4em;background-color: white;}#sk-container-id-3 div.sk-label label {font-family: monospace;font-weight: bold;display: inline-block;line-height: 1.2em;}#sk-container-id-3 div.sk-label-container {text-align: center;}#sk-container-id-3 div.sk-container {/* jupyter's `normalize.less` sets `[hidden] { display: none; }` but bootstrap.min.css set `[hidden] { display: none !important; }` so we also need the `!important` here to be able to override the default hidden behavior on the sphinx rendered scikit-learn.org. See: https://github.com/scikit-learn/scikit-learn/issues/21755 */display: inline-block !important;position: relative;}#sk-container-id-3 div.sk-text-repr-fallback {display: none;}</style><div id=\"sk-container-id-3\" class=\"sk-top-container\"><div class=\"sk-text-repr-fallback\"><pre>RandomForestClassifier()</pre><b>In a Jupyter environment, please rerun this cell to show the HTML representation or trust the notebook. <br />On GitHub, the HTML representation is unable to render, please try loading this page with nbviewer.org.</b></div><div class=\"sk-container\" hidden><div class=\"sk-item\"><div class=\"sk-estimator sk-toggleable\"><input class=\"sk-toggleable__control sk-hidden--visually\" id=\"sk-estimator-id-3\" type=\"checkbox\" checked><label for=\"sk-estimator-id-3\" class=\"sk-toggleable__label sk-toggleable__label-arrow\">RandomForestClassifier</label><div class=\"sk-toggleable__content\"><pre>RandomForestClassifier()</pre></div></div></div></div></div>"
      ],
      "text/plain": [
       "RandomForestClassifier()"
      ]
     },
     "execution_count": 50,
     "metadata": {},
     "output_type": "execute_result"
    }
   ],
   "source": [
    "rfc.fit(X_train, y_train)"
   ]
  },
  {
   "cell_type": "code",
   "execution_count": 51,
   "id": "69248abc",
   "metadata": {},
   "outputs": [
    {
     "name": "stdout",
     "output_type": "stream",
     "text": [
      "Accuracy:97%\n"
     ]
    }
   ],
   "source": [
    "Accuracy = round(rfc.score(X_test, y_test)*100)\n",
    "txt = \"Accuracy:{}%\"\n",
    "print(txt.format(Accuracy))"
   ]
  },
  {
   "cell_type": "markdown",
   "id": "151a3d7e",
   "metadata": {},
   "source": [
    "The model was further built with RandomForestClassifier with an accuracy of 97%."
   ]
  },
  {
   "cell_type": "markdown",
   "id": "636fc49b",
   "metadata": {},
   "source": [
    "The model is optimal and fit to be used for predictions using other datasets."
   ]
  },
  {
   "cell_type": "code",
   "execution_count": null,
   "id": "a211712a",
   "metadata": {},
   "outputs": [],
   "source": []
  }
 ],
 "metadata": {
  "kernelspec": {
   "display_name": "Python 3 (ipykernel)",
   "language": "python",
   "name": "python3"
  },
  "language_info": {
   "codemirror_mode": {
    "name": "ipython",
    "version": 3
   },
   "file_extension": ".py",
   "mimetype": "text/x-python",
   "name": "python",
   "nbconvert_exporter": "python",
   "pygments_lexer": "ipython3",
   "version": "3.9.7"
  }
 },
 "nbformat": 4,
 "nbformat_minor": 5
}
